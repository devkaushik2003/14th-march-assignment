{
 "cells": [
  {
   "cell_type": "code",
   "execution_count": 1,
   "metadata": {},
   "outputs": [
    {
     "name": "stdout",
     "output_type": "stream",
     "text": [
      "this is 14 th march assignment\n"
     ]
    }
   ],
   "source": [
    "print(\"this is 14 th march assignment\")\n"
   ]
  },
  {
   "attachments": {},
   "cell_type": "markdown",
   "metadata": {},
   "source": [
    "Q1. Write a Python function that takes in two arrays of data and calculates the F-value for a variance ratio\n",
    "test. The function should return the F-value and the corresponding p-value for the test."
   ]
  },
  {
   "cell_type": "code",
   "execution_count": 12,
   "metadata": {},
   "outputs": [
    {
     "data": {
      "text/plain": [
       "(0.9190734496408154, 0.5357628461712055)"
      ]
     },
     "execution_count": 12,
     "metadata": {},
     "output_type": "execute_result"
    }
   ],
   "source": [
    "import numpy as np\n",
    "import scipy.stats as stat\n",
    "\n",
    "l1 = [21,32,22,54,12,32]\n",
    "l2 = [23,43,13,45,14,13]\n",
    "def fvalue(l1,l2):\n",
    "    a = np.var(l1)\n",
    "    b = np.var(l2)\n",
    "    dfn = len(l1)-1\n",
    "    dfd = len(l2)- 1\n",
    "    fvalue = a/b\n",
    "    pvalue = 1 - stat.f.cdf(fvalue,dfn ,dfd)\n",
    "\n",
    "    return fvalue,pvalue\n",
    "\n",
    "fvalue(l1,l2)"
   ]
  },
  {
   "attachments": {},
   "cell_type": "markdown",
   "metadata": {},
   "source": [
    "Q2. Given a significance level of 0.05 and the degrees of freedom for the numerator and denominator of an\n",
    "F-distribution, write a Python function that returns the critical F-value for a two-tailed test."
   ]
  },
  {
   "cell_type": "code",
   "execution_count": 13,
   "metadata": {},
   "outputs": [
    {
     "data": {
      "text/plain": [
       "0.17858345090364025"
      ]
     },
     "execution_count": 13,
     "metadata": {},
     "output_type": "execute_result"
    }
   ],
   "source": [
    "from scipy.stats import f\n",
    "\n",
    "def critical_f_value(alpha, dfn, dfd):\n",
    "    return f.ppf(alpha/2, dfn, dfd, loc=0, scale=1)\n",
    "\n",
    "critical_f_value(0.05,6,8)"
   ]
  },
  {
   "attachments": {},
   "cell_type": "markdown",
   "metadata": {},
   "source": [
    "Q3. Write a Python program that generates random samples from two normal distributions with known\n",
    "\n",
    "variances and uses an F-test to determine if the variances are equal. The program should output the F-\n",
    "value, degrees of freedom, and p-value for the test."
   ]
  },
  {
   "cell_type": "code",
   "execution_count": 49,
   "metadata": {},
   "outputs": [
    {
     "data": {
      "text/plain": [
       "(9, 9, 0.9021972730970582, -1.462556697464005)"
      ]
     },
     "execution_count": 49,
     "metadata": {},
     "output_type": "execute_result"
    }
   ],
   "source": [
    "import numpy as np\n",
    "import scipy.stats as stat\n",
    "import random\n",
    "a = np.random.normal(10,5,size=10)\n",
    "b = np.random.normal(10,5,size=10)\n",
    "ftest = np.var(a)/np.var(b)\n",
    "pvalue = 1-stat.f.ppf(ftest,len(a)-1,len(b)-1)\n",
    "len(a)-1,len(b)-1,ftest,pvalue"
   ]
  },
  {
   "attachments": {},
   "cell_type": "markdown",
   "metadata": {},
   "source": [
    "Q4.The variances of two populations are known to be 10 and 15. A sample of 12 observations is taken from\n",
    "each population. Conduct an F-test at the 5% significance level to determine if the variances are\n",
    "significantly different."
   ]
  },
  {
   "cell_type": "code",
   "execution_count": 53,
   "metadata": {},
   "outputs": [
    {
     "name": "stdout",
     "output_type": "stream",
     "text": [
      "we failed to reject null hypothesis\n"
     ]
    }
   ],
   "source": [
    "var1 = 10\n",
    "var2 = 15\n",
    "n = 12\n",
    "dof  = 12-1\n",
    "ftest = var1/var2\n",
    "critical_f_value = stat.f.ppf(1-0.05,11,11)\n",
    "if(ftest>critical_f_value):\n",
    "    print(\"Reject Null Hypothesis\")\n",
    "else:\n",
    "    print(\"we failed to reject null hypothesis\")"
   ]
  },
  {
   "attachments": {},
   "cell_type": "markdown",
   "metadata": {},
   "source": [
    "Q5. A manufacturer claims that the variance of the diameter of a certain product is 0.005. A sample of 25\n",
    "products is taken, and the sample variance is found to be 0.006. Conduct an F-test at the 1% significance\n",
    "level to determine if the claim is justified."
   ]
  },
  {
   "cell_type": "code",
   "execution_count": 56,
   "metadata": {},
   "outputs": [
    {
     "name": "stdout",
     "output_type": "stream",
     "text": [
      "we failed to reject null hypothesis\n"
     ]
    }
   ],
   "source": [
    "var1 = 0.005\n",
    "var2 = 0.006\n",
    "ftest = var1/var2\n",
    "dof = 25-1\n",
    "critical_f_value = stat.f.ppf(1-0.01,dof,dof)\n",
    "if(ftest>critical_f_value):\n",
    "    print(\"we reject the null hypothesis\")\n",
    "else:\n",
    "    print(\"we failed to reject null hypothesis\")"
   ]
  },
  {
   "attachments": {},
   "cell_type": "markdown",
   "metadata": {},
   "source": [
    "Q6. Write a Python function that takes in the degrees of freedom for the numerator and denominator of an\n",
    "F-distribution and calculates the mean and variance of the distribution. The function should return the\n",
    "mean and variance as a tuple."
   ]
  },
  {
   "cell_type": "code",
   "execution_count": 57,
   "metadata": {},
   "outputs": [],
   "source": [
    "from math import gamma\n",
    "\n",
    "def f_distribution_mean_variance(df_num, df_denom):\n",
    "    mean = df_denom / (df_denom - 2)\n",
    "    variance = (2 * df_denom**2 * (df_num + df_denom - 2)) / (df_num * (df_denom - 2)**2 * (df_denom - 4))\n",
    "    return (mean, variance)\n"
   ]
  },
  {
   "attachments": {},
   "cell_type": "markdown",
   "metadata": {},
   "source": [
    "Q7. A random sample of 10 measurements is taken from a normal population with unknown variance. The\n",
    "sample variance is found to be 25. Another random sample of 15 measurements is taken from another\n",
    "normal population with unknown variance, and the sample variance is found to be 20. Conduct an F-test\n",
    "at the 10% significance level to determine if the variances are significantly different."
   ]
  },
  {
   "cell_type": "code",
   "execution_count": 59,
   "metadata": {},
   "outputs": [
    {
     "name": "stdout",
     "output_type": "stream",
     "text": [
      "Sample 1 variance: 109.06666666666666\n",
      "Sample 2 variance: 308.8857142857143\n",
      "Degrees of freedom (sample 1): 9\n",
      "Degrees of freedom (sample 2): 14\n",
      "F-statistic: 2.832081732448481\n",
      "p-value: 0.07904199983309304\n",
      "Critical F-value: 2.6457907352338195\n",
      "Reject the null hypothesis that the variances are equal.\n"
     ]
    }
   ],
   "source": [
    "import numpy as np\n",
    "from scipy.stats import f\n",
    "\n",
    "# define the sample data\n",
    "sample1 = [10, 12, 15, 18, 22, 26, 30, 33, 36, 40]\n",
    "sample2 = [14, 17, 20, 24, 28, 32, 36, 40, 44, 48, 52, 56, 60, 64, 68]\n",
    "\n",
    "# calculate the sample variances and degrees of freedom\n",
    "n1 = len(sample1)\n",
    "n2 = len(sample2)\n",
    "var1 = np.var(sample1, ddof=1)\n",
    "var2 = np.var(sample2, ddof=1)\n",
    "df1 = n1 - 1\n",
    "df2 = n2 - 1\n",
    "\n",
    "# calculate the F-statistic and p-value\n",
    "f_stat = var1 / var2 if var1 > var2 else var2 / var1\n",
    "p_val = f.sf(f_stat, df1, df2) * 2  # multiply by 2 for a two-tailed test\n",
    "\n",
    "# calculate the critical F-value for the given significance level\n",
    "alpha = 0.10\n",
    "crit_f = f.ppf(alpha / 2, df1, df2, loc=0, scale=1) if var1 > var2 else f.ppf(1 - alpha / 2, df1, df2, loc=0, scale=1)\n",
    "\n",
    "# print the results\n",
    "print(\"Sample 1 variance:\", var1)\n",
    "print(\"Sample 2 variance:\", var2)\n",
    "print(\"Degrees of freedom (sample 1):\", df1)\n",
    "print(\"Degrees of freedom (sample 2):\", df2)\n",
    "print(\"F-statistic:\", f_stat)\n",
    "print(\"p-value:\", p_val)\n",
    "print(\"Critical F-value:\", crit_f)\n",
    "\n",
    "if f_stat > crit_f:\n",
    "    print(\"Reject the null hypothesis that the variances are equal.\")\n",
    "else:\n",
    "    print(\"Fail to reject the null hypothesis that the variances are equal.\")\n",
    "\n"
   ]
  },
  {
   "attachments": {},
   "cell_type": "markdown",
   "metadata": {},
   "source": [
    "Q8. The following data represent the waiting times in minutes at two different restaurants on a Saturday\n",
    "night: Restaurant A: 24, 25, 28, 23, 22, 20, 27; Restaurant B: 31, 33, 35, 30, 32, 36. Conduct an F-test at the 5%\n",
    "significance level to determine if the variances are significantly different."
   ]
  }
 ],
 "metadata": {
  "kernelspec": {
   "display_name": "Python 3",
   "language": "python",
   "name": "python3"
  },
  "language_info": {
   "codemirror_mode": {
    "name": "ipython",
    "version": 3
   },
   "file_extension": ".py",
   "mimetype": "text/x-python",
   "name": "python",
   "nbconvert_exporter": "python",
   "pygments_lexer": "ipython3",
   "version": "3.10.0"
  },
  "orig_nbformat": 4
 },
 "nbformat": 4,
 "nbformat_minor": 2
}
